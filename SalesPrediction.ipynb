{
  "nbformat": 4,
  "nbformat_minor": 0,
  "metadata": {
    "colab": {
      "provenance": []
    },
    "kernelspec": {
      "name": "python3",
      "display_name": "Python 3"
    },
    "language_info": {
      "name": "python"
    }
  },
  "cells": [
    {
      "cell_type": "code",
      "execution_count": null,
      "metadata": {
        "id": "I7kfdPSU-gIp",
        "colab": {
          "base_uri": "https://localhost:8080/"
        },
        "outputId": "ed181e13-fcde-4224-f64d-cc0db465c860"
      },
      "outputs": [
        {
          "output_type": "stream",
          "name": "stdout",
          "text": [
            "Mounted at /content/drive\n"
          ]
        }
      ],
      "source": [
        "from google.colab import drive\n",
        "drive.mount('/content/drive')"
      ]
    },
    {
      "cell_type": "code",
      "source": [
        "import numpy as np\n",
        "import matplotlib.pyplot as plt\n",
        "import pandas as pd\n",
        "import statsmodels.formula.api as smf\n",
        "import seaborn as sns"
      ],
      "metadata": {
        "id": "aext21uyAeFV",
        "colab": {
          "base_uri": "https://localhost:8080/"
        },
        "outputId": "719fa398-0d3b-49fc-aa6a-8e8564d950f8"
      },
      "execution_count": null,
      "outputs": [
        {
          "output_type": "stream",
          "name": "stderr",
          "text": [
            "/usr/local/lib/python3.7/dist-packages/statsmodels/tools/_testing.py:19: FutureWarning: pandas.util.testing is deprecated. Use the functions in the public API at pandas.testing instead.\n",
            "  import pandas.util.testing as tm\n"
          ]
        }
      ]
    },
    {
      "cell_type": "code",
      "source": [
        "dataset = pd.read_csv('/content/drive/MyDrive/Walmart.csv')"
      ],
      "metadata": {
        "id": "Iu-PdVz_AkRs"
      },
      "execution_count": null,
      "outputs": []
    },
    {
      "cell_type": "code",
      "source": [
        "import time\n",
        "import datetime"
      ],
      "metadata": {
        "id": "eKNWsnNMLz6O"
      },
      "execution_count": null,
      "outputs": []
    },
    {
      "cell_type": "code",
      "source": [
        "for i in dataset.index:\n",
        "  element = datetime.datetime.strptime(dataset['Date'][i],\"%d-%m-%Y\")\n",
        "  dataset['Date'][i] = datetime.datetime.timestamp(element)"
      ],
      "metadata": {
        "id": "xOeio-QPL3bz",
        "colab": {
          "base_uri": "https://localhost:8080/"
        },
        "outputId": "a1372cb9-5753-4ba2-cc2f-1a729555854a"
      },
      "execution_count": null,
      "outputs": [
        {
          "output_type": "stream",
          "name": "stderr",
          "text": [
            "/usr/local/lib/python3.7/dist-packages/ipykernel_launcher.py:3: SettingWithCopyWarning: \n",
            "A value is trying to be set on a copy of a slice from a DataFrame\n",
            "\n",
            "See the caveats in the documentation: https://pandas.pydata.org/pandas-docs/stable/user_guide/indexing.html#returning-a-view-versus-a-copy\n",
            "  This is separate from the ipykernel package so we can avoid doing imports until\n"
          ]
        }
      ]
    },
    {
      "cell_type": "code",
      "source": [
        "dataset.isnull().sum()"
      ],
      "metadata": {
        "id": "ziNYZl5ekEi9",
        "colab": {
          "base_uri": "https://localhost:8080/"
        },
        "outputId": "71d7a688-2500-459e-92bb-7cbefc23adba"
      },
      "execution_count": null,
      "outputs": [
        {
          "output_type": "execute_result",
          "data": {
            "text/plain": [
              "Store           0\n",
              "Date            0\n",
              "Weekly_Sales    0\n",
              "Holiday_Flag    0\n",
              "Temperature     0\n",
              "Fuel_Price      0\n",
              "CPI             0\n",
              "Unemployment    0\n",
              "dtype: int64"
            ]
          },
          "metadata": {},
          "execution_count": 6
        }
      ]
    },
    {
      "cell_type": "code",
      "source": [
        "dataset.info()"
      ],
      "metadata": {
        "id": "es3NiH8tk-Tq",
        "colab": {
          "base_uri": "https://localhost:8080/"
        },
        "outputId": "cbb9df22-787e-4509-a2f1-57b2c2b2c876"
      },
      "execution_count": null,
      "outputs": [
        {
          "output_type": "stream",
          "name": "stdout",
          "text": [
            "<class 'pandas.core.frame.DataFrame'>\n",
            "RangeIndex: 6435 entries, 0 to 6434\n",
            "Data columns (total 8 columns):\n",
            " #   Column        Non-Null Count  Dtype  \n",
            "---  ------        --------------  -----  \n",
            " 0   Store         6435 non-null   int64  \n",
            " 1   Date          6435 non-null   object \n",
            " 2   Weekly_Sales  6435 non-null   float64\n",
            " 3   Holiday_Flag  6435 non-null   int64  \n",
            " 4   Temperature   6435 non-null   float64\n",
            " 5   Fuel_Price    6435 non-null   float64\n",
            " 6   CPI           6435 non-null   float64\n",
            " 7   Unemployment  6435 non-null   float64\n",
            "dtypes: float64(5), int64(2), object(1)\n",
            "memory usage: 402.3+ KB\n"
          ]
        }
      ]
    },
    {
      "cell_type": "code",
      "source": [
        "sns.heatmap(dataset.isnull(),cbar=False,cmap='viridis')"
      ],
      "metadata": {
        "id": "fp_T2C7nlIbi",
        "colab": {
          "base_uri": "https://localhost:8080/",
          "height": 354
        },
        "outputId": "e8d636a6-c8ea-4b23-d540-ecaf124fe501"
      },
      "execution_count": null,
      "outputs": [
        {
          "output_type": "execute_result",
          "data": {
            "text/plain": [
              "<matplotlib.axes._subplots.AxesSubplot at 0x7f25ddd27c10>"
            ]
          },
          "metadata": {},
          "execution_count": 8
        },
        {
          "output_type": "display_data",
          "data": {
            "text/plain": [
              "<Figure size 432x288 with 1 Axes>"
            ],
            "image/png": "[encoded data removed]"
          },
          "metadata": {
            "needs_background": "light"
          }
        }
      ]
    },
    {
      "cell_type": "code",
      "source": [
        "dataset.drop_duplicates(inplace=True)"
      ],
      "metadata": {
        "id": "MuYVW-9zLBwc"
      },
      "execution_count": null,
      "outputs": []
    },
    {
      "cell_type": "code",
      "source": [
        "dfh=dataset.Holiday_Flag\n",
        "dft=dataset.Temperature\n",
        "dffu=dataset.Fuel_Price\n",
        "dfcp=dataset.CPI\n",
        "dfu=dataset.Unemployment\n",
        "dfs=dataset.Weekly_Sales"
      ],
      "metadata": {
        "id": "jXmEduLPBNcx"
      },
      "execution_count": null,
      "outputs": []
    },
    {
      "cell_type": "code",
      "source": [
        "from scipy.stats import pearsonr\n",
        "pearsonr(dft,dfs)"
      ],
      "metadata": {
        "id": "4Omshj1ZW9Dm",
        "colab": {
          "base_uri": "https://localhost:8080/"
        },
        "outputId": "9c7dd577-7725-46c5-d251-cf7799d7e7d8"
      },
      "execution_count": null,
      "outputs": [
        {
          "output_type": "execute_result",
          "data": {
            "text/plain": [
              "(-0.06381001317946956, 3.0076476258601934e-07)"
            ]
          },
          "metadata": {},
          "execution_count": 11
        }
      ]
    },
    {
      "cell_type": "code",
      "source": [
        "dffu.corr(dft)"
      ],
      "metadata": {
        "id": "SQ8gBxHhYDPN",
        "colab": {
          "base_uri": "https://localhost:8080/"
        },
        "outputId": "05a0310b-595d-4e7d-e0c5-caf55b4d9bc1"
      },
      "execution_count": null,
      "outputs": [
        {
          "output_type": "execute_result",
          "data": {
            "text/plain": [
              "0.14498180596996513"
            ]
          },
          "metadata": {},
          "execution_count": 12
        }
      ]
    },
    {
      "cell_type": "code",
      "source": [
        "dful=list(dfu)"
      ],
      "metadata": {
        "id": "Upn0Ur4IpEk5"
      },
      "execution_count": null,
      "outputs": []
    },
    {
      "cell_type": "code",
      "source": [
        "q1=dataset.quantile(0.25)\n",
        "q3=dataset.quantile(0.75)\n",
        "q2=dataset.quantile(0.50)\n",
        "iqr=q3-q1\n",
        "maxq=q3+(1.5*iqr)\n",
        "minq=q1-(1.5*iqr)"
      ],
      "metadata": {
        "id": "T3TOUntDOjSg"
      },
      "execution_count": null,
      "outputs": []
    },
    {
      "cell_type": "code",
      "source": [
        "type(minq.Unemployment)"
      ],
      "metadata": {
        "id": "qNmzKLM9gzuN",
        "colab": {
          "base_uri": "https://localhost:8080/"
        },
        "outputId": "c5f616a2-be32-4ee4-d7e2-20614a73481e"
      },
      "execution_count": null,
      "outputs": [
        {
          "output_type": "execute_result",
          "data": {
            "text/plain": [
              "numpy.float64"
            ]
          },
          "metadata": {},
          "execution_count": 15
        }
      ]
    },
    {
      "cell_type": "code",
      "source": [
        "maxq.Unemployment"
      ],
      "metadata": {
        "id": "hRH9PVSshgX8",
        "colab": {
          "base_uri": "https://localhost:8080/"
        },
        "outputId": "c98381e0-9162-4c8c-f581-1fb3113661eb"
      },
      "execution_count": null,
      "outputs": [
        {
          "output_type": "execute_result",
          "data": {
            "text/plain": [
              "11.218499999999999"
            ]
          },
          "metadata": {},
          "execution_count": 16
        }
      ]
    },
    {
      "cell_type": "code",
      "source": [
        "flagu=0\n",
        "for i in dful:\n",
        "  if i >= float(minq.Unemployment) and i<=maxq.Unemployment:\n",
        "    flagu=flagu+1\n",
        "print(dataset.Unemployment.count()-flagu)"
      ],
      "metadata": {
        "id": "xwq3MiwtOodE",
        "colab": {
          "base_uri": "https://localhost:8080/"
        },
        "outputId": "beda0d9e-f007-4d0f-bc4f-8b25631d790a"
      },
      "execution_count": null,
      "outputs": [
        {
          "output_type": "stream",
          "name": "stdout",
          "text": [
            "481\n"
          ]
        }
      ]
    },
    {
      "cell_type": "code",
      "source": [
        "df1=dataset.copy(deep=True)"
      ],
      "metadata": {
        "id": "EVfpKnNBP9-z"
      },
      "execution_count": null,
      "outputs": []
    },
    {
      "cell_type": "code",
      "source": [
        "type(df1)"
      ],
      "metadata": {
        "id": "49Px1MEOnSbC",
        "colab": {
          "base_uri": "https://localhost:8080/"
        },
        "outputId": "d18510f9-2162-4f5b-9524-d73ed4d95576"
      },
      "execution_count": null,
      "outputs": [
        {
          "output_type": "execute_result",
          "data": {
            "text/plain": [
              "pandas.core.frame.DataFrame"
            ]
          },
          "metadata": {},
          "execution_count": 19
        }
      ]
    },
    {
      "cell_type": "code",
      "source": [
        "df1u=df1.Unemployment"
      ],
      "metadata": {
        "id": "NorC6x14QA8U"
      },
      "execution_count": null,
      "outputs": []
    },
    {
      "cell_type": "code",
      "source": [
        "#df1new=df1.copy()"
      ],
      "metadata": {
        "id": "o8f6Efqb9jsZ"
      },
      "execution_count": null,
      "outputs": []
    },
    {
      "cell_type": "code",
      "source": [
        "type(df1u)"
      ],
      "metadata": {
        "id": "2g4OA6t4e0ji",
        "colab": {
          "base_uri": "https://localhost:8080/"
        },
        "outputId": "983d9c10-13b4-4f51-f1bf-0dfd525fb4c1"
      },
      "execution_count": null,
      "outputs": [
        {
          "output_type": "execute_result",
          "data": {
            "text/plain": [
              "pandas.core.series.Series"
            ]
          },
          "metadata": {},
          "execution_count": 22
        }
      ]
    },
    {
      "cell_type": "code",
      "source": [
        "minu=float(minq.Unemployment)\n",
        "maxu=float(maxq.Unemployment)"
      ],
      "metadata": {
        "id": "JKuT-k_6mvtD"
      },
      "execution_count": null,
      "outputs": []
    },
    {
      "cell_type": "code",
      "source": [
        "df1new=df1[(df1['Unemployment'] >=minu) & (df1['Unemployment'] <=maxu)]"
      ],
      "metadata": {
        "id": "FTgMxcxKl5Rb"
      },
      "execution_count": null,
      "outputs": []
    },
    {
      "cell_type": "code",
      "source": [
        "df1new.shape"
      ],
      "metadata": {
        "id": "GjGXjmoUoTe8",
        "colab": {
          "base_uri": "https://localhost:8080/"
        },
        "outputId": "e7a7e25b-59d6-48ce-b1ba-f5cea9aa2820"
      },
      "execution_count": null,
      "outputs": [
        {
          "output_type": "execute_result",
          "data": {
            "text/plain": [
              "(5954, 8)"
            ]
          },
          "metadata": {},
          "execution_count": 25
        }
      ]
    },
    {
      "cell_type": "code",
      "source": [
        "df1.shape"
      ],
      "metadata": {
        "id": "TWPt3EOspKww",
        "colab": {
          "base_uri": "https://localhost:8080/"
        },
        "outputId": "619cf2ce-6879-4c8b-b03c-2a7385dfe1a6"
      },
      "execution_count": null,
      "outputs": [
        {
          "output_type": "execute_result",
          "data": {
            "text/plain": [
              "(6435, 8)"
            ]
          },
          "metadata": {},
          "execution_count": 26
        }
      ]
    },
    {
      "cell_type": "code",
      "source": [
        "fig=plt.figure(figsize=(5,5)) \n",
        "ax=fig.add_axes([0,0,1,1])\n",
        "bp=ax.boxplot(dfu)\n",
        "plt.show()"
      ],
      "metadata": {
        "id": "_Iq2rNE8CPuo",
        "colab": {
          "base_uri": "https://localhost:8080/",
          "height": 408
        },
        "outputId": "f1b3f159-d9c8-49d9-f101-6de204a4a839"
      },
      "execution_count": null,
      "outputs": [
        {
          "output_type": "display_data",
          "data": {
            "text/plain": [
              "<Figure size 360x360 with 1 Axes>"
            ],
            "image/png": "[encoded data removed]"
          },
          "metadata": {
            "needs_background": "light"
          }
        }
      ]
    },
    {
      "cell_type": "code",
      "source": [
        "results = smf.ols('Weekly_Sales~Store+Holiday_Flag+Temperature+Fuel_Price+CPI+Unemployment ', data=df1new).fit()\n",
        "print(results.summary())"
      ],
      "metadata": {
        "id": "rfdUS9pKllbD",
        "colab": {
          "base_uri": "https://localhost:8080/"
        },
        "outputId": "2229fa1d-ced4-4fcd-8821-c4eb12ee334b"
      },
      "execution_count": null,
      "outputs": [
        {
          "output_type": "stream",
          "name": "stdout",
          "text": [
            "                            OLS Regression Results                            \n",
            "==============================================================================\n",
            "Dep. Variable:           Weekly_Sales   R-squared:                       0.131\n",
            "Model:                            OLS   Adj. R-squared:                  0.130\n",
            "Method:                 Least Squares   F-statistic:                     149.0\n",
            "Date:                Sat, 14 May 2022   Prob (F-statistic):          1.04e-176\n",
            "Time:                        08:16:41   Log-Likelihood:                -86964.\n",
            "No. Observations:                5954   AIC:                         1.739e+05\n",
            "Df Residuals:                    5947   BIC:                         1.740e+05\n",
            "Df Model:                           6                                         \n",
            "Covariance Type:            nonrobust                                         \n",
            "================================================================================\n",
            "                   coef    std err          t      P>|t|      [0.025      0.975]\n",
            "--------------------------------------------------------------------------------\n",
            "Intercept     1.763e+06   8.74e+04     20.172      0.000    1.59e+06    1.93e+06\n",
            "Store        -1.555e+04    563.288    -27.611      0.000   -1.67e+04   -1.44e+04\n",
            "Holiday_Flag  7.232e+04   2.75e+04      2.633      0.008    1.85e+04    1.26e+05\n",
            "Temperature  -1051.6931    397.609     -2.645      0.008   -1831.152    -272.234\n",
            "Fuel_Price    1.959e+04   1.58e+04      1.240      0.215   -1.14e+04    5.06e+04\n",
            "CPI          -2192.5029    192.608    -11.383      0.000   -2570.085   -1814.921\n",
            "Unemployment  2287.0623   6038.723      0.379      0.705   -9551.028    1.41e+04\n",
            "==============================================================================\n",
            "Omnibus:                      181.315   Durbin-Watson:                   0.128\n",
            "Prob(Omnibus):                  0.000   Jarque-Bera (JB):              197.771\n",
            "Skew:                           0.446   Prob(JB):                     1.13e-43\n",
            "Kurtosis:                       3.037   Cond. No.                     2.43e+03\n",
            "==============================================================================\n",
            "\n",
            "Warnings:\n",
            "[1] Standard Errors assume that the covariance matrix of the errors is correctly specified.\n",
            "[2] The condition number is large, 2.43e+03. This might indicate that there are\n",
            "strong multicollinearity or other numerical problems.\n"
          ]
        }
      ]
    },
    {
      "cell_type": "code",
      "source": [
        "results = smf.ols('Weekly_Sales~Holiday_Flag+Temperature+Fuel_Price+CPI+Unemployment ', data=dataset).fit()\n",
        "print(results.summary())"
      ],
      "metadata": {
        "id": "X-_Eg23uD0s2",
        "colab": {
          "base_uri": "https://localhost:8080/"
        },
        "outputId": "2c899165-47d2-4479-b8dd-13c0e195ab07"
      },
      "execution_count": null,
      "outputs": [
        {
          "output_type": "stream",
          "name": "stdout",
          "text": [
            "                            OLS Regression Results                            \n",
            "==============================================================================\n",
            "Dep. Variable:           Weekly_Sales   R-squared:                       0.025\n",
            "Model:                            OLS   Adj. R-squared:                  0.025\n",
            "Method:                 Least Squares   F-statistic:                     33.57\n",
            "Date:                Sat, 14 May 2022   Prob (F-statistic):           5.93e-34\n",
            "Time:                        08:16:41   Log-Likelihood:                -94269.\n",
            "No. Observations:                6435   AIC:                         1.886e+05\n",
            "Df Residuals:                    6429   BIC:                         1.886e+05\n",
            "Df Model:                           5                                         \n",
            "Covariance Type:            nonrobust                                         \n",
            "================================================================================\n",
            "                   coef    std err          t      P>|t|      [0.025      0.975]\n",
            "--------------------------------------------------------------------------------\n",
            "Intercept     1.727e+06   7.98e+04     21.646      0.000    1.57e+06    1.88e+06\n",
            "Holiday_Flag  7.489e+04   2.76e+04      2.710      0.007    2.07e+04    1.29e+05\n",
            "Temperature   -724.1715    400.461     -1.808      0.071   -1509.207      60.864\n",
            "Fuel_Price   -1.017e+04   1.58e+04     -0.645      0.519   -4.11e+04    2.07e+04\n",
            "CPI          -1598.8717    195.127     -8.194      0.000   -1981.385   -1216.358\n",
            "Unemployment -4.155e+04   3972.660    -10.460      0.000   -4.93e+04   -3.38e+04\n",
            "==============================================================================\n",
            "Omnibus:                      365.109   Durbin-Watson:                   0.114\n",
            "Prob(Omnibus):                  0.000   Jarque-Bera (JB):              430.212\n",
            "Skew:                           0.633   Prob(JB):                     3.81e-94\n",
            "Kurtosis:                       3.007   Cond. No.                     2.16e+03\n",
            "==============================================================================\n",
            "\n",
            "Warnings:\n",
            "[1] Standard Errors assume that the covariance matrix of the errors is correctly specified.\n",
            "[2] The condition number is large, 2.16e+03. This might indicate that there are\n",
            "strong multicollinearity or other numerical problems.\n"
          ]
        }
      ]
    },
    {
      "cell_type": "code",
      "source": [
        "df1new\n"
      ],
      "metadata": {
        "id": "EPfMh13MmqTJ",
        "colab": {
          "base_uri": "https://localhost:8080/",
          "height": 424
        },
        "outputId": "d32f3e93-fdf1-4bfc-e857-1cde51fbd0fb"
      },
      "execution_count": null,
      "outputs": [
        {
          "output_type": "execute_result",
          "data": {
            "text/plain": [
              "      Store          Date  Weekly_Sales  Holiday_Flag  Temperature  \\\n",
              "0         1  1265328000.0    1643690.90             0        42.31   \n",
              "1         1  1265932800.0    1641957.44             1        38.51   \n",
              "2         1  1266537600.0    1611968.17             0        39.93   \n",
              "3         1  1267142400.0    1409727.59             0        46.63   \n",
              "4         1  1267747200.0    1554806.68             0        46.50   \n",
              "...     ...           ...           ...           ...          ...   \n",
              "6430     45  1348790400.0     713173.95             0        64.88   \n",
              "6431     45  1349395200.0     733455.07             0        64.89   \n",
              "6432     45  1350000000.0     734464.36             0        54.47   \n",
              "6433     45  1350604800.0     718125.53             0        56.47   \n",
              "6434     45  1351209600.0     760281.43             0        58.85   \n",
              "\n",
              "      Fuel_Price         CPI  Unemployment  \n",
              "0          2.572  211.096358         8.106  \n",
              "1          2.548  211.242170         8.106  \n",
              "2          2.514  211.289143         8.106  \n",
              "3          2.561  211.319643         8.106  \n",
              "4          2.625  211.350143         8.106  \n",
              "...          ...         ...           ...  \n",
              "6430       3.997  192.013558         8.684  \n",
              "6431       3.985  192.170412         8.667  \n",
              "6432       4.000  192.327265         8.667  \n",
              "6433       3.969  192.330854         8.667  \n",
              "6434       3.882  192.308899         8.667  \n",
              "\n",
              "[5954 rows x 8 columns]"
            ],
            "text/html": [
              "\n",
              "  <div id=\"df-75327d7a-d682-415b-8d84-aea000531c76\">\n",
              "    <div class=\"colab-df-container\">\n",
              "      <div>\n",
              "<style scoped>\n",
              "    .dataframe tbody tr th:only-of-type {\n",
              "        vertical-align: middle;\n",
              "    }\n",
              "\n",
              "    .dataframe tbody tr th {\n",
              "        vertical-align: top;\n",
              "    }\n",
              "\n",
              "    .dataframe thead th {\n",
              "        text-align: right;\n",
              "    }\n",
              "</style>\n",
              "<table border=\"1\" class=\"dataframe\">\n",
              "  <thead>\n",
              "    <tr style=\"text-align: right;\">\n",
              "      <th></th>\n",
              "      <th>Store</th>\n",
              "      <th>Date</th>\n",
              "      <th>Weekly_Sales</th>\n",
              "      <th>Holiday_Flag</th>\n",
              "      <th>Temperature</th>\n",
              "      <th>Fuel_Price</th>\n",
              "      <th>CPI</th>\n",
              "      <th>Unemployment</th>\n",
              "    </tr>\n",
              "  </thead>\n",
              "  <tbody>\n",
              "    <tr>\n",
              "      <th>0</th>\n",
              "      <td>1</td>\n",
              "      <td>1265328000.0</td>\n",
              "      <td>1643690.90</td>\n",
              "      <td>0</td>\n",
              "      <td>42.31</td>\n",
              "      <td>2.572</td>\n",
              "      <td>211.096358</td>\n",
              "      <td>8.106</td>\n",
              "    </tr>\n",
              "    <tr>\n",
              "      <th>1</th>\n",
              "      <td>1</td>\n",
              "      <td>1265932800.0</td>\n",
              "      <td>1641957.44</td>\n",
              "      <td>1</td>\n",
              "      <td>38.51</td>\n",
              "      <td>2.548</td>\n",
              "      <td>211.242170</td>\n",
              "      <td>8.106</td>\n",
              "    </tr>\n",
              "    <tr>\n",
              "      <th>2</th>\n",
              "      <td>1</td>\n",
              "      <td>1266537600.0</td>\n",
              "      <td>1611968.17</td>\n",
              "      <td>0</td>\n",
              "      <td>39.93</td>\n",
              "      <td>2.514</td>\n",
              "      <td>211.289143</td>\n",
              "      <td>8.106</td>\n",
              "    </tr>\n",
              "    <tr>\n",
              "      <th>3</th>\n",
              "      <td>1</td>\n",
              "      <td>1267142400.0</td>\n",
              "      <td>1409727.59</td>\n",
              "      <td>0</td>\n",
              "      <td>46.63</td>\n",
              "      <td>2.561</td>\n",
              "      <td>211.319643</td>\n",
              "      <td>8.106</td>\n",
              "    </tr>\n",
              "    <tr>\n",
              "      <th>4</th>\n",
              "      <td>1</td>\n",
              "      <td>1267747200.0</td>\n",
              "      <td>1554806.68</td>\n",
              "      <td>0</td>\n",
              "      <td>46.50</td>\n",
              "      <td>2.625</td>\n",
              "      <td>211.350143</td>\n",
              "      <td>8.106</td>\n",
              "    </tr>\n",
              "    <tr>\n",
              "      <th>...</th>\n",
              "      <td>...</td>\n",
              "      <td>...</td>\n",
              "      <td>...</td>\n",
              "      <td>...</td>\n",
              "      <td>...</td>\n",
              "      <td>...</td>\n",
              "      <td>...</td>\n",
              "      <td>...</td>\n",
              "    </tr>\n",
              "    <tr>\n",
              "      <th>6430</th>\n",
              "      <td>45</td>\n",
              "      <td>1348790400.0</td>\n",
              "      <td>713173.95</td>\n",
              "      <td>0</td>\n",
              "      <td>64.88</td>\n",
              "      <td>3.997</td>\n",
              "      <td>192.013558</td>\n",
              "      <td>8.684</td>\n",
              "    </tr>\n",
              "    <tr>\n",
              "      <th>6431</th>\n",
              "      <td>45</td>\n",
              "      <td>1349395200.0</td>\n",
              "      <td>733455.07</td>\n",
              "      <td>0</td>\n",
              "      <td>64.89</td>\n",
              "      <td>3.985</td>\n",
              "      <td>192.170412</td>\n",
              "      <td>8.667</td>\n",
              "    </tr>\n",
              "    <tr>\n",
              "      <th>6432</th>\n",
              "      <td>45</td>\n",
              "      <td>1350000000.0</td>\n",
              "      <td>734464.36</td>\n",
              "      <td>0</td>\n",
              "      <td>54.47</td>\n",
              "      <td>4.000</td>\n",
              "      <td>192.327265</td>\n",
              "      <td>8.667</td>\n",
              "    </tr>\n",
              "    <tr>\n",
              "      <th>6433</th>\n",
              "      <td>45</td>\n",
              "      <td>1350604800.0</td>\n",
              "      <td>718125.53</td>\n",
              "      <td>0</td>\n",
              "      <td>56.47</td>\n",
              "      <td>3.969</td>\n",
              "      <td>192.330854</td>\n",
              "      <td>8.667</td>\n",
              "    </tr>\n",
              "    <tr>\n",
              "      <th>6434</th>\n",
              "      <td>45</td>\n",
              "      <td>1351209600.0</td>\n",
              "      <td>760281.43</td>\n",
              "      <td>0</td>\n",
              "      <td>58.85</td>\n",
              "      <td>3.882</td>\n",
              "      <td>192.308899</td>\n",
              "      <td>8.667</td>\n",
              "    </tr>\n",
              "  </tbody>\n",
              "</table>\n",
              "<p>5954 rows × 8 columns</p>\n",
              "</div>\n",
              "      <button class=\"colab-df-convert\" onclick=\"convertToInteractive('df-75327d7a-d682-415b-8d84-aea000531c76')\"\n",
              "              title=\"Convert this dataframe to an interactive table.\"\n",
              "              style=\"display:none;\">\n",
              "        \n",
              "  <svg xmlns=\"http://www.w3.org/2000/svg\" height=\"24px\"viewBox=\"0 0 24 24\"\n",
              "       width=\"24px\">\n",
              "    <path d=\"M0 0h24v24H0V0z\" fill=\"none\"/>\n",
              "    <path d=\"M18.56 5.44l.94 2.06.94-2.06 2.06-.94-2.06-.94-.94-2.06-.94 2.06-2.06.94zm-11 1L8.5 8.5l.94-2.06 2.06-.94-2.06-.94L8.5 2.5l-.94 2.06-2.06.94zm10 10l.94 2.06.94-2.06 2.06-.94-2.06-.94-.94-2.06-.94 2.06-2.06.94z\"/><path d=\"M17.41 7.96l-1.37-1.37c-.4-.4-.92-.59-1.43-.59-.52 0-1.04.2-1.43.59L10.3 9.45l-7.72 7.72c-.78.78-.78 2.05 0 2.83L4 21.41c.39.39.9.59 1.41.59.51 0 1.02-.2 1.41-.59l7.78-7.78 2.81-2.81c.8-.78.8-2.07 0-2.86zM5.41 20L4 18.59l7.72-7.72 1.47 1.35L5.41 20z\"/>\n",
              "  </svg>\n",
              "      </button>\n",
              "      \n",
              "  <style>\n",
              "    .colab-df-container {\n",
              "      display:flex;\n",
              "      flex-wrap:wrap;\n",
              "      gap: 12px;\n",
              "    }\n",
              "\n",
              "    .colab-df-convert {\n",
              "      background-color: #E8F0FE;\n",
              "      border: none;\n",
              "      border-radius: 50%;\n",
              "      cursor: pointer;\n",
              "      display: none;\n",
              "      fill: #1967D2;\n",
              "      height: 32px;\n",
              "      padding: 0 0 0 0;\n",
              "      width: 32px;\n",
              "    }\n",
              "\n",
              "    .colab-df-convert:hover {\n",
              "      background-color: #E2EBFA;\n",
              "      box-shadow: 0px 1px 2px rgba(60, 64, 67, 0.3), 0px 1px 3px 1px rgba(60, 64, 67, 0.15);\n",
              "      fill: #174EA6;\n",
              "    }\n",
              "\n",
              "    [theme=dark] .colab-df-convert {\n",
              "      background-color: #3B4455;\n",
              "      fill: #D2E3FC;\n",
              "    }\n",
              "\n",
              "    [theme=dark] .colab-df-convert:hover {\n",
              "      background-color: #434B5C;\n",
              "      box-shadow: 0px 1px 3px 1px rgba(0, 0, 0, 0.15);\n",
              "      filter: drop-shadow(0px 1px 2px rgba(0, 0, 0, 0.3));\n",
              "      fill: #FFFFFF;\n",
              "    }\n",
              "  </style>\n",
              "\n",
              "      <script>\n",
              "        const buttonEl =\n",
              "          document.querySelector('#df-75327d7a-d682-415b-8d84-aea000531c76 button.colab-df-convert');\n",
              "        buttonEl.style.display =\n",
              "          google.colab.kernel.accessAllowed ? 'block' : 'none';\n",
              "\n",
              "        async function convertToInteractive(key) {\n",
              "          const element = document.querySelector('#df-75327d7a-d682-415b-8d84-aea000531c76');\n",
              "          const dataTable =\n",
              "            await google.colab.kernel.invokeFunction('convertToInteractive',\n",
              "                                                     [key], {});\n",
              "          if (!dataTable) return;\n",
              "\n",
              "          const docLinkHtml = 'Like what you see? Visit the ' +\n",
              "            '<a target=\"_blank\" href=https://colab.research.google.com/notebooks/data_table.ipynb>data table notebook</a>'\n",
              "            + ' to learn more about interactive tables.';\n",
              "          element.innerHTML = '';\n",
              "          dataTable['output_type'] = 'display_data';\n",
              "          await google.colab.output.renderOutput(dataTable, element);\n",
              "          const docLink = document.createElement('div');\n",
              "          docLink.innerHTML = docLinkHtml;\n",
              "          element.appendChild(docLink);\n",
              "        }\n",
              "      </script>\n",
              "    </div>\n",
              "  </div>\n",
              "  "
            ]
          },
          "metadata": {},
          "execution_count": 30
        }
      ]
    },
    {
      "cell_type": "code",
      "source": [
        "df1new = pd.get_dummies(df1new,columns=['Store','Holiday_Flag'])"
      ],
      "metadata": {
        "id": "702sGl4TUQWi"
      },
      "execution_count": null,
      "outputs": []
    },
    {
      "cell_type": "code",
      "source": [
        "df1new.drop(['Date'],axis=1,inplace=True)"
      ],
      "metadata": {
        "id": "IOJiKtPrfb-m"
      },
      "execution_count": null,
      "outputs": []
    },
    {
      "cell_type": "code",
      "source": [
        "df1new"
      ],
      "metadata": {
        "id": "Bjivn-kYq0Rj",
        "colab": {
          "base_uri": "https://localhost:8080/",
          "height": 468
        },
        "outputId": "cd657a3c-3bc6-49d5-d782-66e978645384"
      },
      "execution_count": null,
      "outputs": [
        {
          "output_type": "execute_result",
          "data": {
            "text/plain": [
              "      Weekly_Sales  Temperature  Fuel_Price         CPI  Unemployment  \\\n",
              "0       1643690.90        42.31       2.572  211.096358         8.106   \n",
              "1       1641957.44        38.51       2.548  211.242170         8.106   \n",
              "2       1611968.17        39.93       2.514  211.289143         8.106   \n",
              "3       1409727.59        46.63       2.561  211.319643         8.106   \n",
              "4       1554806.68        46.50       2.625  211.350143         8.106   \n",
              "...            ...          ...         ...         ...           ...   \n",
              "6430     713173.95        64.88       3.997  192.013558         8.684   \n",
              "6431     733455.07        64.89       3.985  192.170412         8.667   \n",
              "6432     734464.36        54.47       4.000  192.327265         8.667   \n",
              "6433     718125.53        56.47       3.969  192.330854         8.667   \n",
              "6434     760281.43        58.85       3.882  192.308899         8.667   \n",
              "\n",
              "      Store_1  Store_2  Store_3  Store_4  Store_5  ...  Store_38  Store_39  \\\n",
              "0           1        0        0        0        0  ...         0         0   \n",
              "1           1        0        0        0        0  ...         0         0   \n",
              "2           1        0        0        0        0  ...         0         0   \n",
              "3           1        0        0        0        0  ...         0         0   \n",
              "4           1        0        0        0        0  ...         0         0   \n",
              "...       ...      ...      ...      ...      ...  ...       ...       ...   \n",
              "6430        0        0        0        0        0  ...         0         0   \n",
              "6431        0        0        0        0        0  ...         0         0   \n",
              "6432        0        0        0        0        0  ...         0         0   \n",
              "6433        0        0        0        0        0  ...         0         0   \n",
              "6434        0        0        0        0        0  ...         0         0   \n",
              "\n",
              "      Store_40  Store_41  Store_42  Store_43  Store_44  Store_45  \\\n",
              "0            0         0         0         0         0         0   \n",
              "1            0         0         0         0         0         0   \n",
              "2            0         0         0         0         0         0   \n",
              "3            0         0         0         0         0         0   \n",
              "4            0         0         0         0         0         0   \n",
              "...        ...       ...       ...       ...       ...       ...   \n",
              "6430         0         0         0         0         0         1   \n",
              "6431         0         0         0         0         0         1   \n",
              "6432         0         0         0         0         0         1   \n",
              "6433         0         0         0         0         0         1   \n",
              "6434         0         0         0         0         0         1   \n",
              "\n",
              "      Holiday_Flag_0  Holiday_Flag_1  \n",
              "0                  1               0  \n",
              "1                  0               1  \n",
              "2                  1               0  \n",
              "3                  1               0  \n",
              "4                  1               0  \n",
              "...              ...             ...  \n",
              "6430               1               0  \n",
              "6431               1               0  \n",
              "6432               1               0  \n",
              "6433               1               0  \n",
              "6434               1               0  \n",
              "\n",
              "[5954 rows x 52 columns]"
            ],
            "text/html": [
              "\n",
              "  <div id=\"df-8c51153d-4a0f-464b-bdfb-21d2d77752b0\">\n",
              "    <div class=\"colab-df-container\">\n",
              "      <div>\n",
              "<style scoped>\n",
              "    .dataframe tbody tr th:only-of-type {\n",
              "        vertical-align: middle;\n",
              "    }\n",
              "\n",
              "    .dataframe tbody tr th {\n",
              "        vertical-align: top;\n",
              "    }\n",
              "\n",
              "    .dataframe thead th {\n",
              "        text-align: right;\n",
              "    }\n",
              "</style>\n",
              "<table border=\"1\" class=\"dataframe\">\n",
              "  <thead>\n",
              "    <tr style=\"text-align: right;\">\n",
              "      <th></th>\n",
              "      <th>Weekly_Sales</th>\n",
              "      <th>Temperature</th>\n",
              "      <th>Fuel_Price</th>\n",
              "      <th>CPI</th>\n",
              "      <th>Unemployment</th>\n",
              "      <th>Store_1</th>\n",
              "      <th>Store_2</th>\n",
              "      <th>Store_3</th>\n",
              "      <th>Store_4</th>\n",
              "      <th>Store_5</th>\n",
              "      <th>...</th>\n",
              "      <th>Store_38</th>\n",
              "      <th>Store_39</th>\n",
              "      <th>Store_40</th>\n",
              "      <th>Store_41</th>\n",
              "      <th>Store_42</th>\n",
              "      <th>Store_43</th>\n",
              "      <th>Store_44</th>\n",
              "      <th>Store_45</th>\n",
              "      <th>Holiday_Flag_0</th>\n",
              "      <th>Holiday_Flag_1</th>\n",
              "    </tr>\n",
              "  </thead>\n",
              "  <tbody>\n",
              "    <tr>\n",
              "      <th>0</th>\n",
              "      <td>1643690.90</td>\n",
              "      <td>42.31</td>\n",
              "      <td>2.572</td>\n",
              "      <td>211.096358</td>\n",
              "      <td>8.106</td>\n",
              "      <td>1</td>\n",
              "      <td>0</td>\n",
              "      <td>0</td>\n",
              "      <td>0</td>\n",
              "      <td>0</td>\n",
              "      <td>...</td>\n",
              "      <td>0</td>\n",
              "      <td>0</td>\n",
              "      <td>0</td>\n",
              "      <td>0</td>\n",
              "      <td>0</td>\n",
              "      <td>0</td>\n",
              "      <td>0</td>\n",
              "      <td>0</td>\n",
              "      <td>1</td>\n",
              "      <td>0</td>\n",
              "    </tr>\n",
              "    <tr>\n",
              "      <th>1</th>\n",
              "      <td>1641957.44</td>\n",
              "      <td>38.51</td>\n",
              "      <td>2.548</td>\n",
              "      <td>211.242170</td>\n",
              "      <td>8.106</td>\n",
              "      <td>1</td>\n",
              "      <td>0</td>\n",
              "      <td>0</td>\n",
              "      <td>0</td>\n",
              "      <td>0</td>\n",
              "      <td>...</td>\n",
              "      <td>0</td>\n",
              "      <td>0</td>\n",
              "      <td>0</td>\n",
              "      <td>0</td>\n",
              "      <td>0</td>\n",
              "      <td>0</td>\n",
              "      <td>0</td>\n",
              "      <td>0</td>\n",
              "      <td>0</td>\n",
              "      <td>1</td>\n",
              "    </tr>\n",
              "    <tr>\n",
              "      <th>2</th>\n",
              "      <td>1611968.17</td>\n",
              "      <td>39.93</td>\n",
              "      <td>2.514</td>\n",
              "      <td>211.289143</td>\n",
              "      <td>8.106</td>\n",
              "      <td>1</td>\n",
              "      <td>0</td>\n",
              "      <td>0</td>\n",
              "      <td>0</td>\n",
              "      <td>0</td>\n",
              "      <td>...</td>\n",
              "      <td>0</td>\n",
              "      <td>0</td>\n",
              "      <td>0</td>\n",
              "      <td>0</td>\n",
              "      <td>0</td>\n",
              "      <td>0</td>\n",
              "      <td>0</td>\n",
              "      <td>0</td>\n",
              "      <td>1</td>\n",
              "      <td>0</td>\n",
              "    </tr>\n",
              "    <tr>\n",
              "      <th>3</th>\n",
              "      <td>1409727.59</td>\n",
              "      <td>46.63</td>\n",
              "      <td>2.561</td>\n",
              "      <td>211.319643</td>\n",
              "      <td>8.106</td>\n",
              "      <td>1</td>\n",
              "      <td>0</td>\n",
              "      <td>0</td>\n",
              "      <td>0</td>\n",
              "      <td>0</td>\n",
              "      <td>...</td>\n",
              "      <td>0</td>\n",
              "      <td>0</td>\n",
              "      <td>0</td>\n",
              "      <td>0</td>\n",
              "      <td>0</td>\n",
              "      <td>0</td>\n",
              "      <td>0</td>\n",
              "      <td>0</td>\n",
              "      <td>1</td>\n",
              "      <td>0</td>\n",
              "    </tr>\n",
              "    <tr>\n",
              "      <th>4</th>\n",
              "      <td>1554806.68</td>\n",
              "      <td>46.50</td>\n",
              "      <td>2.625</td>\n",
              "      <td>211.350143</td>\n",
              "      <td>8.106</td>\n",
              "      <td>1</td>\n",
              "      <td>0</td>\n",
              "      <td>0</td>\n",
              "      <td>0</td>\n",
              "      <td>0</td>\n",
              "      <td>...</td>\n",
              "      <td>0</td>\n",
              "      <td>0</td>\n",
              "      <td>0</td>\n",
              "      <td>0</td>\n",
              "      <td>0</td>\n",
              "      <td>0</td>\n",
              "      <td>0</td>\n",
              "      <td>0</td>\n",
              "      <td>1</td>\n",
              "      <td>0</td>\n",
              "    </tr>\n",
              "    <tr>\n",
              "      <th>...</th>\n",
              "      <td>...</td>\n",
              "      <td>...</td>\n",
              "      <td>...</td>\n",
              "      <td>...</td>\n",
              "      <td>...</td>\n",
              "      <td>...</td>\n",
              "      <td>...</td>\n",
              "      <td>...</td>\n",
              "      <td>...</td>\n",
              "      <td>...</td>\n",
              "      <td>...</td>\n",
              "      <td>...</td>\n",
              "      <td>...</td>\n",
              "      <td>...</td>\n",
              "      <td>...</td>\n",
              "      <td>...</td>\n",
              "      <td>...</td>\n",
              "      <td>...</td>\n",
              "      <td>...</td>\n",
              "      <td>...</td>\n",
              "      <td>...</td>\n",
              "    </tr>\n",
              "    <tr>\n",
              "      <th>6430</th>\n",
              "      <td>713173.95</td>\n",
              "      <td>64.88</td>\n",
              "      <td>3.997</td>\n",
              "      <td>192.013558</td>\n",
              "      <td>8.684</td>\n",
              "      <td>0</td>\n",
              "      <td>0</td>\n",
              "      <td>0</td>\n",
              "      <td>0</td>\n",
              "      <td>0</td>\n",
              "      <td>...</td>\n",
              "      <td>0</td>\n",
              "      <td>0</td>\n",
              "      <td>0</td>\n",
              "      <td>0</td>\n",
              "      <td>0</td>\n",
              "      <td>0</td>\n",
              "      <td>0</td>\n",
              "      <td>1</td>\n",
              "      <td>1</td>\n",
              "      <td>0</td>\n",
              "    </tr>\n",
              "    <tr>\n",
              "      <th>6431</th>\n",
              "      <td>733455.07</td>\n",
              "      <td>64.89</td>\n",
              "      <td>3.985</td>\n",
              "      <td>192.170412</td>\n",
              "      <td>8.667</td>\n",
              "      <td>0</td>\n",
              "      <td>0</td>\n",
              "      <td>0</td>\n",
              "      <td>0</td>\n",
              "      <td>0</td>\n",
              "      <td>...</td>\n",
              "      <td>0</td>\n",
              "      <td>0</td>\n",
              "      <td>0</td>\n",
              "      <td>0</td>\n",
              "      <td>0</td>\n",
              "      <td>0</td>\n",
              "      <td>0</td>\n",
              "      <td>1</td>\n",
              "      <td>1</td>\n",
              "      <td>0</td>\n",
              "    </tr>\n",
              "    <tr>\n",
              "      <th>6432</th>\n",
              "      <td>734464.36</td>\n",
              "      <td>54.47</td>\n",
              "      <td>4.000</td>\n",
              "      <td>192.327265</td>\n",
              "      <td>8.667</td>\n",
              "      <td>0</td>\n",
              "      <td>0</td>\n",
              "      <td>0</td>\n",
              "      <td>0</td>\n",
              "      <td>0</td>\n",
              "      <td>...</td>\n",
              "      <td>0</td>\n",
              "      <td>0</td>\n",
              "      <td>0</td>\n",
              "      <td>0</td>\n",
              "      <td>0</td>\n",
              "      <td>0</td>\n",
              "      <td>0</td>\n",
              "      <td>1</td>\n",
              "      <td>1</td>\n",
              "      <td>0</td>\n",
              "    </tr>\n",
              "    <tr>\n",
              "      <th>6433</th>\n",
              "      <td>718125.53</td>\n",
              "      <td>56.47</td>\n",
              "      <td>3.969</td>\n",
              "      <td>192.330854</td>\n",
              "      <td>8.667</td>\n",
              "      <td>0</td>\n",
              "      <td>0</td>\n",
              "      <td>0</td>\n",
              "      <td>0</td>\n",
              "      <td>0</td>\n",
              "      <td>...</td>\n",
              "      <td>0</td>\n",
              "      <td>0</td>\n",
              "      <td>0</td>\n",
              "      <td>0</td>\n",
              "      <td>0</td>\n",
              "      <td>0</td>\n",
              "      <td>0</td>\n",
              "      <td>1</td>\n",
              "      <td>1</td>\n",
              "      <td>0</td>\n",
              "    </tr>\n",
              "    <tr>\n",
              "      <th>6434</th>\n",
              "      <td>760281.43</td>\n",
              "      <td>58.85</td>\n",
              "      <td>3.882</td>\n",
              "      <td>192.308899</td>\n",
              "      <td>8.667</td>\n",
              "      <td>0</td>\n",
              "      <td>0</td>\n",
              "      <td>0</td>\n",
              "      <td>0</td>\n",
              "      <td>0</td>\n",
              "      <td>...</td>\n",
              "      <td>0</td>\n",
              "      <td>0</td>\n",
              "      <td>0</td>\n",
              "      <td>0</td>\n",
              "      <td>0</td>\n",
              "      <td>0</td>\n",
              "      <td>0</td>\n",
              "      <td>1</td>\n",
              "      <td>1</td>\n",
              "      <td>0</td>\n",
              "    </tr>\n",
              "  </tbody>\n",
              "</table>\n",
              "<p>5954 rows × 52 columns</p>\n",
              "</div>\n",
              "      <button class=\"colab-df-convert\" onclick=\"convertToInteractive('df-8c51153d-4a0f-464b-bdfb-21d2d77752b0')\"\n",
              "              title=\"Convert this dataframe to an interactive table.\"\n",
              "              style=\"display:none;\">\n",
              "        \n",
              "  <svg xmlns=\"http://www.w3.org/2000/svg\" height=\"24px\"viewBox=\"0 0 24 24\"\n",
              "       width=\"24px\">\n",
              "    <path d=\"M0 0h24v24H0V0z\" fill=\"none\"/>\n",
              "    <path d=\"M18.56 5.44l.94 2.06.94-2.06 2.06-.94-2.06-.94-.94-2.06-.94 2.06-2.06.94zm-11 1L8.5 8.5l.94-2.06 2.06-.94-2.06-.94L8.5 2.5l-.94 2.06-2.06.94zm10 10l.94 2.06.94-2.06 2.06-.94-2.06-.94-.94-2.06-.94 2.06-2.06.94z\"/><path d=\"M17.41 7.96l-1.37-1.37c-.4-.4-.92-.59-1.43-.59-.52 0-1.04.2-1.43.59L10.3 9.45l-7.72 7.72c-.78.78-.78 2.05 0 2.83L4 21.41c.39.39.9.59 1.41.59.51 0 1.02-.2 1.41-.59l7.78-7.78 2.81-2.81c.8-.78.8-2.07 0-2.86zM5.41 20L4 18.59l7.72-7.72 1.47 1.35L5.41 20z\"/>\n",
              "  </svg>\n",
              "      </button>\n",
              "      \n",
              "  <style>\n",
              "    .colab-df-container {\n",
              "      display:flex;\n",
              "      flex-wrap:wrap;\n",
              "      gap: 12px;\n",
              "    }\n",
              "\n",
              "    .colab-df-convert {\n",
              "      background-color: #E8F0FE;\n",
              "      border: none;\n",
              "      border-radius: 50%;\n",
              "      cursor: pointer;\n",
              "      display: none;\n",
              "      fill: #1967D2;\n",
              "      height: 32px;\n",
              "      padding: 0 0 0 0;\n",
              "      width: 32px;\n",
              "    }\n",
              "\n",
              "    .colab-df-convert:hover {\n",
              "      background-color: #E2EBFA;\n",
              "      box-shadow: 0px 1px 2px rgba(60, 64, 67, 0.3), 0px 1px 3px 1px rgba(60, 64, 67, 0.15);\n",
              "      fill: #174EA6;\n",
              "    }\n",
              "\n",
              "    [theme=dark] .colab-df-convert {\n",
              "      background-color: #3B4455;\n",
              "      fill: #D2E3FC;\n",
              "    }\n",
              "\n",
              "    [theme=dark] .colab-df-convert:hover {\n",
              "      background-color: #434B5C;\n",
              "      box-shadow: 0px 1px 3px 1px rgba(0, 0, 0, 0.15);\n",
              "      filter: drop-shadow(0px 1px 2px rgba(0, 0, 0, 0.3));\n",
              "      fill: #FFFFFF;\n",
              "    }\n",
              "  </style>\n",
              "\n",
              "      <script>\n",
              "        const buttonEl =\n",
              "          document.querySelector('#df-8c51153d-4a0f-464b-bdfb-21d2d77752b0 button.colab-df-convert');\n",
              "        buttonEl.style.display =\n",
              "          google.colab.kernel.accessAllowed ? 'block' : 'none';\n",
              "\n",
              "        async function convertToInteractive(key) {\n",
              "          const element = document.querySelector('#df-8c51153d-4a0f-464b-bdfb-21d2d77752b0');\n",
              "          const dataTable =\n",
              "            await google.colab.kernel.invokeFunction('convertToInteractive',\n",
              "                                                     [key], {});\n",
              "          if (!dataTable) return;\n",
              "\n",
              "          const docLinkHtml = 'Like what you see? Visit the ' +\n",
              "            '<a target=\"_blank\" href=https://colab.research.google.com/notebooks/data_table.ipynb>data table notebook</a>'\n",
              "            + ' to learn more about interactive tables.';\n",
              "          element.innerHTML = '';\n",
              "          dataTable['output_type'] = 'display_data';\n",
              "          await google.colab.output.renderOutput(dataTable, element);\n",
              "          const docLink = document.createElement('div');\n",
              "          docLink.innerHTML = docLinkHtml;\n",
              "          element.appendChild(docLink);\n",
              "        }\n",
              "      </script>\n",
              "    </div>\n",
              "  </div>\n",
              "  "
            ]
          },
          "metadata": {},
          "execution_count": 33
        }
      ]
    },
    {
      "cell_type": "code",
      "source": [
        "X11 = pd.DataFrame(df1new.iloc[:, 3:].values)\n",
        "y0 = df1new.iloc[:, 2:3].values\n",
        "X12= pd.DataFrame(df1new.iloc[:,0:2].values)\n",
        "lx=[X11,X12]\n",
        "X0=pd.concat([X11, X12.reindex(X11.index)], axis=1)"
      ],
      "metadata": {
        "id": "h2NH4eThnBT3"
      },
      "execution_count": null,
      "outputs": []
    },
    {
      "cell_type": "code",
      "source": [
        "X0"
      ],
      "metadata": {
        "id": "FWGQuF1vAaFR",
        "colab": {
          "base_uri": "https://localhost:8080/",
          "height": 424
        },
        "outputId": "bdbdf53f-ab2e-4018-ca20-8686bde08598"
      },
      "execution_count": null,
      "outputs": [
        {
          "output_type": "execute_result",
          "data": {
            "text/plain": [
              "              0      1    2    3    4    5    6    7    8    9   ...   41  \\\n",
              "0     211.096358  8.106  1.0  0.0  0.0  0.0  0.0  0.0  0.0  0.0  ...  0.0   \n",
              "1     211.242170  8.106  1.0  0.0  0.0  0.0  0.0  0.0  0.0  0.0  ...  0.0   \n",
              "2     211.289143  8.106  1.0  0.0  0.0  0.0  0.0  0.0  0.0  0.0  ...  0.0   \n",
              "3     211.319643  8.106  1.0  0.0  0.0  0.0  0.0  0.0  0.0  0.0  ...  0.0   \n",
              "4     211.350143  8.106  1.0  0.0  0.0  0.0  0.0  0.0  0.0  0.0  ...  0.0   \n",
              "...          ...    ...  ...  ...  ...  ...  ...  ...  ...  ...  ...  ...   \n",
              "5949  192.013558  8.684  0.0  0.0  0.0  0.0  0.0  0.0  0.0  0.0  ...  0.0   \n",
              "5950  192.170412  8.667  0.0  0.0  0.0  0.0  0.0  0.0  0.0  0.0  ...  0.0   \n",
              "5951  192.327265  8.667  0.0  0.0  0.0  0.0  0.0  0.0  0.0  0.0  ...  0.0   \n",
              "5952  192.330854  8.667  0.0  0.0  0.0  0.0  0.0  0.0  0.0  0.0  ...  0.0   \n",
              "5953  192.308899  8.667  0.0  0.0  0.0  0.0  0.0  0.0  0.0  0.0  ...  0.0   \n",
              "\n",
              "       42   43   44   45   46   47   48          0      1   \n",
              "0     0.0  0.0  0.0  0.0  0.0  1.0  0.0  1643690.90  42.31  \n",
              "1     0.0  0.0  0.0  0.0  0.0  0.0  1.0  1641957.44  38.51  \n",
              "2     0.0  0.0  0.0  0.0  0.0  1.0  0.0  1611968.17  39.93  \n",
              "3     0.0  0.0  0.0  0.0  0.0  1.0  0.0  1409727.59  46.63  \n",
              "4     0.0  0.0  0.0  0.0  0.0  1.0  0.0  1554806.68  46.50  \n",
              "...   ...  ...  ...  ...  ...  ...  ...         ...    ...  \n",
              "5949  0.0  0.0  0.0  0.0  1.0  1.0  0.0   713173.95  64.88  \n",
              "5950  0.0  0.0  0.0  0.0  1.0  1.0  0.0   733455.07  64.89  \n",
              "5951  0.0  0.0  0.0  0.0  1.0  1.0  0.0   734464.36  54.47  \n",
              "5952  0.0  0.0  0.0  0.0  1.0  1.0  0.0   718125.53  56.47  \n",
              "5953  0.0  0.0  0.0  0.0  1.0  1.0  0.0   760281.43  58.85  \n",
              "\n",
              "[5954 rows x 51 columns]"
            ],
            "text/html": [
              "\n",
              "  <div id=\"df-f714bf62-fda1-4134-931a-61ceb6fc3018\">\n",
              "    <div class=\"colab-df-container\">\n",
              "      <div>\n",
              "<style scoped>\n",
              "    .dataframe tbody tr th:only-of-type {\n",
              "        vertical-align: middle;\n",
              "    }\n",
              "\n",
              "    .dataframe tbody tr th {\n",
              "        vertical-align: top;\n",
              "    }\n",
              "\n",
              "    .dataframe thead th {\n",
              "        text-align: right;\n",
              "    }\n",
              "</style>\n",
              "<table border=\"1\" class=\"dataframe\">\n",
              "  <thead>\n",
              "    <tr style=\"text-align: right;\">\n",
              "      <th></th>\n",
              "      <th>0</th>\n",
              "      <th>1</th>\n",
              "      <th>2</th>\n",
              "      <th>3</th>\n",
              "      <th>4</th>\n",
              "      <th>5</th>\n",
              "      <th>6</th>\n",
              "      <th>7</th>\n",
              "      <th>8</th>\n",
              "      <th>9</th>\n",
              "      <th>...</th>\n",
              "      <th>41</th>\n",
              "      <th>42</th>\n",
              "      <th>43</th>\n",
              "      <th>44</th>\n",
              "      <th>45</th>\n",
              "      <th>46</th>\n",
              "      <th>47</th>\n",
              "      <th>48</th>\n",
              "      <th>0</th>\n",
              "      <th>1</th>\n",
              "    </tr>\n",
              "  </thead>\n",
              "  <tbody>\n",
              "    <tr>\n",
              "      <th>0</th>\n",
              "      <td>211.096358</td>\n",
              "      <td>8.106</td>\n",
              "      <td>1.0</td>\n",
              "      <td>0.0</td>\n",
              "      <td>0.0</td>\n",
              "      <td>0.0</td>\n",
              "      <td>0.0</td>\n",
              "      <td>0.0</td>\n",
              "      <td>0.0</td>\n",
              "      <td>0.0</td>\n",
              "      <td>...</td>\n",
              "      <td>0.0</td>\n",
              "      <td>0.0</td>\n",
              "      <td>0.0</td>\n",
              "      <td>0.0</td>\n",
              "      <td>0.0</td>\n",
              "      <td>0.0</td>\n",
              "      <td>1.0</td>\n",
              "      <td>0.0</td>\n",
              "      <td>1643690.90</td>\n",
              "      <td>42.31</td>\n",
              "    </tr>\n",
              "    <tr>\n",
              "      <th>1</th>\n",
              "      <td>211.242170</td>\n",
              "      <td>8.106</td>\n",
              "      <td>1.0</td>\n",
              "      <td>0.0</td>\n",
              "      <td>0.0</td>\n",
              "      <td>0.0</td>\n",
              "      <td>0.0</td>\n",
              "      <td>0.0</td>\n",
              "      <td>0.0</td>\n",
              "      <td>0.0</td>\n",
              "      <td>...</td>\n",
              "      <td>0.0</td>\n",
              "      <td>0.0</td>\n",
              "      <td>0.0</td>\n",
              "      <td>0.0</td>\n",
              "      <td>0.0</td>\n",
              "      <td>0.0</td>\n",
              "      <td>0.0</td>\n",
              "      <td>1.0</td>\n",
              "      <td>1641957.44</td>\n",
              "      <td>38.51</td>\n",
              "    </tr>\n",
              "    <tr>\n",
              "      <th>2</th>\n",
              "      <td>211.289143</td>\n",
              "      <td>8.106</td>\n",
              "      <td>1.0</td>\n",
              "      <td>0.0</td>\n",
              "      <td>0.0</td>\n",
              "      <td>0.0</td>\n",
              "      <td>0.0</td>\n",
              "      <td>0.0</td>\n",
              "      <td>0.0</td>\n",
              "      <td>0.0</td>\n",
              "      <td>...</td>\n",
              "      <td>0.0</td>\n",
              "      <td>0.0</td>\n",
              "      <td>0.0</td>\n",
              "      <td>0.0</td>\n",
              "      <td>0.0</td>\n",
              "      <td>0.0</td>\n",
              "      <td>1.0</td>\n",
              "      <td>0.0</td>\n",
              "      <td>1611968.17</td>\n",
              "      <td>39.93</td>\n",
              "    </tr>\n",
              "    <tr>\n",
              "      <th>3</th>\n",
              "      <td>211.319643</td>\n",
              "      <td>8.106</td>\n",
              "      <td>1.0</td>\n",
              "      <td>0.0</td>\n",
              "      <td>0.0</td>\n",
              "      <td>0.0</td>\n",
              "      <td>0.0</td>\n",
              "      <td>0.0</td>\n",
              "      <td>0.0</td>\n",
              "      <td>0.0</td>\n",
              "      <td>...</td>\n",
              "      <td>0.0</td>\n",
              "      <td>0.0</td>\n",
              "      <td>0.0</td>\n",
              "      <td>0.0</td>\n",
              "      <td>0.0</td>\n",
              "      <td>0.0</td>\n",
              "      <td>1.0</td>\n",
              "      <td>0.0</td>\n",
              "      <td>1409727.59</td>\n",
              "      <td>46.63</td>\n",
              "    </tr>\n",
              "    <tr>\n",
              "      <th>4</th>\n",
              "      <td>211.350143</td>\n",
              "      <td>8.106</td>\n",
              "      <td>1.0</td>\n",
              "      <td>0.0</td>\n",
              "      <td>0.0</td>\n",
              "      <td>0.0</td>\n",
              "      <td>0.0</td>\n",
              "      <td>0.0</td>\n",
              "      <td>0.0</td>\n",
              "      <td>0.0</td>\n",
              "      <td>...</td>\n",
              "      <td>0.0</td>\n",
              "      <td>0.0</td>\n",
              "      <td>0.0</td>\n",
              "      <td>0.0</td>\n",
              "      <td>0.0</td>\n",
              "      <td>0.0</td>\n",
              "      <td>1.0</td>\n",
              "      <td>0.0</td>\n",
              "      <td>1554806.68</td>\n",
              "      <td>46.50</td>\n",
              "    </tr>\n",
              "    <tr>\n",
              "      <th>...</th>\n",
              "      <td>...</td>\n",
              "      <td>...</td>\n",
              "      <td>...</td>\n",
              "      <td>...</td>\n",
              "      <td>...</td>\n",
              "      <td>...</td>\n",
              "      <td>...</td>\n",
              "      <td>...</td>\n",
              "      <td>...</td>\n",
              "      <td>...</td>\n",
              "      <td>...</td>\n",
              "      <td>...</td>\n",
              "      <td>...</td>\n",
              "      <td>...</td>\n",
              "      <td>...</td>\n",
              "      <td>...</td>\n",
              "      <td>...</td>\n",
              "      <td>...</td>\n",
              "      <td>...</td>\n",
              "      <td>...</td>\n",
              "      <td>...</td>\n",
              "    </tr>\n",
              "    <tr>\n",
              "      <th>5949</th>\n",
              "      <td>192.013558</td>\n",
              "      <td>8.684</td>\n",
              "      <td>0.0</td>\n",
              "      <td>0.0</td>\n",
              "      <td>0.0</td>\n",
              "      <td>0.0</td>\n",
              "      <td>0.0</td>\n",
              "      <td>0.0</td>\n",
              "      <td>0.0</td>\n",
              "      <td>0.0</td>\n",
              "      <td>...</td>\n",
              "      <td>0.0</td>\n",
              "      <td>0.0</td>\n",
              "      <td>0.0</td>\n",
              "      <td>0.0</td>\n",
              "      <td>0.0</td>\n",
              "      <td>1.0</td>\n",
              "      <td>1.0</td>\n",
              "      <td>0.0</td>\n",
              "      <td>713173.95</td>\n",
              "      <td>64.88</td>\n",
              "    </tr>\n",
              "    <tr>\n",
              "      <th>5950</th>\n",
              "      <td>192.170412</td>\n",
              "      <td>8.667</td>\n",
              "      <td>0.0</td>\n",
              "      <td>0.0</td>\n",
              "      <td>0.0</td>\n",
              "      <td>0.0</td>\n",
              "      <td>0.0</td>\n",
              "      <td>0.0</td>\n",
              "      <td>0.0</td>\n",
              "      <td>0.0</td>\n",
              "      <td>...</td>\n",
              "      <td>0.0</td>\n",
              "      <td>0.0</td>\n",
              "      <td>0.0</td>\n",
              "      <td>0.0</td>\n",
              "      <td>0.0</td>\n",
              "      <td>1.0</td>\n",
              "      <td>1.0</td>\n",
              "      <td>0.0</td>\n",
              "      <td>733455.07</td>\n",
              "      <td>64.89</td>\n",
              "    </tr>\n",
              "    <tr>\n",
              "      <th>5951</th>\n",
              "      <td>192.327265</td>\n",
              "      <td>8.667</td>\n",
              "      <td>0.0</td>\n",
              "      <td>0.0</td>\n",
              "      <td>0.0</td>\n",
              "      <td>0.0</td>\n",
              "      <td>0.0</td>\n",
              "      <td>0.0</td>\n",
              "      <td>0.0</td>\n",
              "      <td>0.0</td>\n",
              "      <td>...</td>\n",
              "      <td>0.0</td>\n",
              "      <td>0.0</td>\n",
              "      <td>0.0</td>\n",
              "      <td>0.0</td>\n",
              "      <td>0.0</td>\n",
              "      <td>1.0</td>\n",
              "      <td>1.0</td>\n",
              "      <td>0.0</td>\n",
              "      <td>734464.36</td>\n",
              "      <td>54.47</td>\n",
              "    </tr>\n",
              "    <tr>\n",
              "      <th>5952</th>\n",
              "      <td>192.330854</td>\n",
              "      <td>8.667</td>\n",
              "      <td>0.0</td>\n",
              "      <td>0.0</td>\n",
              "      <td>0.0</td>\n",
              "      <td>0.0</td>\n",
              "      <td>0.0</td>\n",
              "      <td>0.0</td>\n",
              "      <td>0.0</td>\n",
              "      <td>0.0</td>\n",
              "      <td>...</td>\n",
              "      <td>0.0</td>\n",
              "      <td>0.0</td>\n",
              "      <td>0.0</td>\n",
              "      <td>0.0</td>\n",
              "      <td>0.0</td>\n",
              "      <td>1.0</td>\n",
              "      <td>1.0</td>\n",
              "      <td>0.0</td>\n",
              "      <td>718125.53</td>\n",
              "      <td>56.47</td>\n",
              "    </tr>\n",
              "    <tr>\n",
              "      <th>5953</th>\n",
              "      <td>192.308899</td>\n",
              "      <td>8.667</td>\n",
              "      <td>0.0</td>\n",
              "      <td>0.0</td>\n",
              "      <td>0.0</td>\n",
              "      <td>0.0</td>\n",
              "      <td>0.0</td>\n",
              "      <td>0.0</td>\n",
              "      <td>0.0</td>\n",
              "      <td>0.0</td>\n",
              "      <td>...</td>\n",
              "      <td>0.0</td>\n",
              "      <td>0.0</td>\n",
              "      <td>0.0</td>\n",
              "      <td>0.0</td>\n",
              "      <td>0.0</td>\n",
              "      <td>1.0</td>\n",
              "      <td>1.0</td>\n",
              "      <td>0.0</td>\n",
              "      <td>760281.43</td>\n",
              "      <td>58.85</td>\n",
              "    </tr>\n",
              "  </tbody>\n",
              "</table>\n",
              "<p>5954 rows × 51 columns</p>\n",
              "</div>\n",
              "      <button class=\"colab-df-convert\" onclick=\"convertToInteractive('df-f714bf62-fda1-4134-931a-61ceb6fc3018')\"\n",
              "              title=\"Convert this dataframe to an interactive table.\"\n",
              "              style=\"display:none;\">\n",
              "        \n",
              "  <svg xmlns=\"http://www.w3.org/2000/svg\" height=\"24px\"viewBox=\"0 0 24 24\"\n",
              "       width=\"24px\">\n",
              "    <path d=\"M0 0h24v24H0V0z\" fill=\"none\"/>\n",
              "    <path d=\"M18.56 5.44l.94 2.06.94-2.06 2.06-.94-2.06-.94-.94-2.06-.94 2.06-2.06.94zm-11 1L8.5 8.5l.94-2.06 2.06-.94-2.06-.94L8.5 2.5l-.94 2.06-2.06.94zm10 10l.94 2.06.94-2.06 2.06-.94-2.06-.94-.94-2.06-.94 2.06-2.06.94z\"/><path d=\"M17.41 7.96l-1.37-1.37c-.4-.4-.92-.59-1.43-.59-.52 0-1.04.2-1.43.59L10.3 9.45l-7.72 7.72c-.78.78-.78 2.05 0 2.83L4 21.41c.39.39.9.59 1.41.59.51 0 1.02-.2 1.41-.59l7.78-7.78 2.81-2.81c.8-.78.8-2.07 0-2.86zM5.41 20L4 18.59l7.72-7.72 1.47 1.35L5.41 20z\"/>\n",
              "  </svg>\n",
              "      </button>\n",
              "      \n",
              "  <style>\n",
              "    .colab-df-container {\n",
              "      display:flex;\n",
              "      flex-wrap:wrap;\n",
              "      gap: 12px;\n",
              "    }\n",
              "\n",
              "    .colab-df-convert {\n",
              "      background-color: #E8F0FE;\n",
              "      border: none;\n",
              "      border-radius: 50%;\n",
              "      cursor: pointer;\n",
              "      display: none;\n",
              "      fill: #1967D2;\n",
              "      height: 32px;\n",
              "      padding: 0 0 0 0;\n",
              "      width: 32px;\n",
              "    }\n",
              "\n",
              "    .colab-df-convert:hover {\n",
              "      background-color: #E2EBFA;\n",
              "      box-shadow: 0px 1px 2px rgba(60, 64, 67, 0.3), 0px 1px 3px 1px rgba(60, 64, 67, 0.15);\n",
              "      fill: #174EA6;\n",
              "    }\n",
              "\n",
              "    [theme=dark] .colab-df-convert {\n",
              "      background-color: #3B4455;\n",
              "      fill: #D2E3FC;\n",
              "    }\n",
              "\n",
              "    [theme=dark] .colab-df-convert:hover {\n",
              "      background-color: #434B5C;\n",
              "      box-shadow: 0px 1px 3px 1px rgba(0, 0, 0, 0.15);\n",
              "      filter: drop-shadow(0px 1px 2px rgba(0, 0, 0, 0.3));\n",
              "      fill: #FFFFFF;\n",
              "    }\n",
              "  </style>\n",
              "\n",
              "      <script>\n",
              "        const buttonEl =\n",
              "          document.querySelector('#df-f714bf62-fda1-4134-931a-61ceb6fc3018 button.colab-df-convert');\n",
              "        buttonEl.style.display =\n",
              "          google.colab.kernel.accessAllowed ? 'block' : 'none';\n",
              "\n",
              "        async function convertToInteractive(key) {\n",
              "          const element = document.querySelector('#df-f714bf62-fda1-4134-931a-61ceb6fc3018');\n",
              "          const dataTable =\n",
              "            await google.colab.kernel.invokeFunction('convertToInteractive',\n",
              "                                                     [key], {});\n",
              "          if (!dataTable) return;\n",
              "\n",
              "          const docLinkHtml = 'Like what you see? Visit the ' +\n",
              "            '<a target=\"_blank\" href=https://colab.research.google.com/notebooks/data_table.ipynb>data table notebook</a>'\n",
              "            + ' to learn more about interactive tables.';\n",
              "          element.innerHTML = '';\n",
              "          dataTable['output_type'] = 'display_data';\n",
              "          await google.colab.output.renderOutput(dataTable, element);\n",
              "          const docLink = document.createElement('div');\n",
              "          docLink.innerHTML = docLinkHtml;\n",
              "          element.appendChild(docLink);\n",
              "        }\n",
              "      </script>\n",
              "    </div>\n",
              "  </div>\n",
              "  "
            ]
          },
          "metadata": {},
          "execution_count": 35
        }
      ]
    },
    {
      "cell_type": "code",
      "source": [
        "len(X0.columns)"
      ],
      "metadata": {
        "id": "pRyE3cZ1NPES",
        "colab": {
          "base_uri": "https://localhost:8080/"
        },
        "outputId": "eb6a2f86-2670-403f-8792-b40d128682a4"
      },
      "execution_count": null,
      "outputs": [
        {
          "output_type": "execute_result",
          "data": {
            "text/plain": [
              "51"
            ]
          },
          "metadata": {},
          "execution_count": 36
        }
      ]
    },
    {
      "cell_type": "markdown",
      "source": [
        "#**MULTIPLE LINEAR REGRESSION**"
      ],
      "metadata": {
        "id": "qi_pLm1PuDCY"
      }
    },
    {
      "cell_type": "code",
      "source": [
        "from sklearn.model_selection import train_test_split\n",
        "X1_train, X1_test, y1_train, y1_test = train_test_split(X0, y0, test_size = 0.25, random_state = 0)"
      ],
      "metadata": {
        "id": "bGpv5BtXmz3C"
      },
      "execution_count": null,
      "outputs": []
    },
    {
      "cell_type": "code",
      "source": [
        "from sklearn.linear_model import LinearRegression\n",
        "regressor1 = LinearRegression()\n",
        "regressor1.fit(X1_train, y1_train)"
      ],
      "metadata": {
        "id": "UuZ1JWE9nf6v",
        "colab": {
          "base_uri": "https://localhost:8080/"
        },
        "outputId": "e82b2d6b-69d3-4801-b774-08809c195a87"
      },
      "execution_count": null,
      "outputs": [
        {
          "output_type": "execute_result",
          "data": {
            "text/plain": [
              "LinearRegression()"
            ]
          },
          "metadata": {},
          "execution_count": 38
        }
      ]
    },
    {
      "cell_type": "code",
      "source": [
        "y1_pred=regressor1.predict(X1_test)"
      ],
      "metadata": {
        "id": "yrmqW2v7oTmg"
      },
      "execution_count": null,
      "outputs": []
    },
    {
      "cell_type": "code",
      "source": [
        "from sklearn.metrics import r2_score as r2\n",
        "print(r2(y1_test,y1_pred))"
      ],
      "metadata": {
        "id": "Vhj0Z9RaoB1r",
        "colab": {
          "base_uri": "https://localhost:8080/"
        },
        "outputId": "77999d69-0765-4e58-d67b-24bdb630786a"
      },
      "execution_count": null,
      "outputs": [
        {
          "output_type": "stream",
          "name": "stdout",
          "text": [
            "0.6242542762730736\n"
          ]
        }
      ]
    },
    {
      "cell_type": "code",
      "source": [
        "from sklearn.metrics import mean_squared_error as mse\n",
        "from math import sqrt\n",
        "mse1=mse(y1_test,y1_pred)\n",
        "rmse1=sqrt(mse1)"
      ],
      "metadata": {
        "id": "JSB_68bKogwA"
      },
      "execution_count": null,
      "outputs": []
    },
    {
      "cell_type": "code",
      "source": [
        "print('MSE:'+str(mse1)+\"\\nRMSE:\"+str(rmse1))"
      ],
      "metadata": {
        "id": "hfiNiuujBxlx",
        "colab": {
          "base_uri": "https://localhost:8080/"
        },
        "outputId": "b3d01268-3eb6-4c77-8cea-8c626b80018e"
      },
      "execution_count": null,
      "outputs": [
        {
          "output_type": "stream",
          "name": "stdout",
          "text": [
            "MSE:0.08169541458375046\n",
            "RMSE:0.2858240972761927\n"
          ]
        }
      ]
    },
    {
      "cell_type": "code",
      "source": [
        "r_sq1=regressor1.score(X1_test,y1_test)\n",
        "r_sq1"
      ],
      "metadata": {
        "id": "gKmaSimxrBZj",
        "colab": {
          "base_uri": "https://localhost:8080/"
        },
        "outputId": "8b0c7d13-7a7c-4b8c-c79c-9640e958186f"
      },
      "execution_count": null,
      "outputs": [
        {
          "output_type": "execute_result",
          "data": {
            "text/plain": [
              "0.6242542762730736"
            ]
          },
          "metadata": {},
          "execution_count": 43
        }
      ]
    },
    {
      "cell_type": "code",
      "source": [
        "n=5954\n",
        "p=51"
      ],
      "metadata": {
        "id": "yAfCrOCuAnqQ"
      },
      "execution_count": null,
      "outputs": []
    },
    {
      "cell_type": "code",
      "source": [
        "adjr_sq1 = 1-(1-r_sq1)*(n-1)/(n-p-1)\n",
        "adjr_sq1"
      ],
      "metadata": {
        "id": "tW94trjw_tNE",
        "colab": {
          "base_uri": "https://localhost:8080/"
        },
        "outputId": "bf156085-75c6-4d2d-baa3-9ecc4d495f2a"
      },
      "execution_count": null,
      "outputs": [
        {
          "output_type": "execute_result",
          "data": {
            "text/plain": [
              "0.6210074053970869"
            ]
          },
          "metadata": {},
          "execution_count": 45
        }
      ]
    },
    {
      "cell_type": "code",
      "source": [
        "from sklearn.metrics import mean_absolute_error as mae\n",
        "mae1=mae(y1_test,y1_pred)\n",
        "print(mae1)"
      ],
      "metadata": {
        "id": "e1fZFGl_CRyZ",
        "colab": {
          "base_uri": "https://localhost:8080/"
        },
        "outputId": "cc4fdfd1-76d3-4650-dfd1-cfe4e655a65c"
      },
      "execution_count": null,
      "outputs": [
        {
          "output_type": "stream",
          "name": "stdout",
          "text": [
            "0.23735330986330888\n"
          ]
        }
      ]
    },
    {
      "cell_type": "code",
      "source": [
        "g=plt.plot(y1_test,marker='*')\n",
        "h=plt.plot(y1_pred,marker='+')"
      ],
      "metadata": {
        "id": "-tGo3jD7raKr",
        "colab": {
          "base_uri": "https://localhost:8080/",
          "height": 265
        },
        "outputId": "135ea023-0fda-43b7-a1e0-7f4a408a81c3"
      },
      "execution_count": null,
      "outputs": [
        {
          "output_type": "display_data",
          "data": {
            "text/plain": [
              "<Figure size 432x288 with 1 Axes>"
            ],
            "image/png": "[encoded data removed]"
          },
          "metadata": {
            "needs_background": "light"
          }
        }
      ]
    },
    {
      "cell_type": "code",
      "source": [
        "fig, ax = plt.subplots()\n",
        "ax.scatter(y1_test, y1_pred, edgecolors=(0, 0, 0))\n",
        "ax.plot([y1_test.min(), y1_test.max()], [y1_test.min(), y1_test.max()], \"k--\", lw=4)\n",
        "ax.set_xlabel(\"Actual\")\n",
        "ax.set_ylabel(\"Predicted\")\n",
        "plt.show()"
      ],
      "metadata": {
        "id": "0fpEQiNgtQlN",
        "colab": {
          "base_uri": "https://localhost:8080/",
          "height": 279
        },
        "outputId": "7dc78621-ed9f-4821-f001-709d4ababc28"
      },
      "execution_count": null,
      "outputs": [
        {
          "output_type": "display_data",
          "data": {
            "text/plain": [
              "<Figure size 432x288 with 1 Axes>"
            ],
            "image/png": "[encoded data removed]"
          },
          "metadata": {
            "needs_background": "light"
          }
        }
      ]
    },
    {
      "cell_type": "code",
      "source": [
        "y1_pred"
      ],
      "metadata": {
        "id": "w95js6ALtjJc",
        "colab": {
          "base_uri": "https://localhost:8080/"
        },
        "outputId": "2005b5ee-3be3-419f-cf3b-9044ebb96690"
      },
      "execution_count": null,
      "outputs": [
        {
          "output_type": "execute_result",
          "data": {
            "text/plain": [
              "array([[3.87022831],\n",
              "       [3.48175758],\n",
              "       [2.70258465],\n",
              "       ...,\n",
              "       [2.86949612],\n",
              "       [3.57009278],\n",
              "       [3.43354895]])"
            ]
          },
          "metadata": {},
          "execution_count": 49
        }
      ]
    },
    {
      "cell_type": "markdown",
      "source": [
        "#**POLYNOMIAL REGRESSION**"
      ],
      "metadata": {
        "id": "VcKkV3P3t2Ur"
      }
    },
    {
      "cell_type": "code",
      "source": [
        "from sklearn.preprocessing import PolynomialFeatures\n",
        "poly_reg1=PolynomialFeatures(degree=3)\n",
        "x1_poly=poly_reg1.fit_transform(X0)\n"
      ],
      "metadata": {
        "id": "KjyRIAwwt8qV"
      },
      "execution_count": null,
      "outputs": []
    },
    {
      "cell_type": "code",
      "source": [
        "from sklearn.model_selection import train_test_split\n",
        "X1p_train, X1p_test, y1p_train, y1p_test = train_test_split(x1_poly, y0, test_size = 0.25, random_state = 0)"
      ],
      "metadata": {
        "id": "B1fLUmuBvqgI"
      },
      "execution_count": null,
      "outputs": []
    },
    {
      "cell_type": "code",
      "source": [
        "lin_reg2=LinearRegression()\n",
        "lin_reg2.fit(X1p_train,y1p_train)\n",
        "y1p_pred=lin_reg2.predict(X1p_test)"
      ],
      "metadata": {
        "id": "lVnR6d8HwIO9"
      },
      "execution_count": null,
      "outputs": []
    },
    {
      "cell_type": "code",
      "source": [
        "r_sq2=lin_reg2.score(X1p_test,y1p_test)\n",
        "r_sq2"
      ],
      "metadata": {
        "id": "8yOkzlmtDRtx",
        "colab": {
          "base_uri": "https://localhost:8080/"
        },
        "outputId": "fb773894-53b9-486b-9675-0df650b18b03"
      },
      "execution_count": null,
      "outputs": [
        {
          "output_type": "execute_result",
          "data": {
            "text/plain": [
              "0.747989234172149"
            ]
          },
          "metadata": {},
          "execution_count": 53
        }
      ]
    },
    {
      "cell_type": "code",
      "source": [
        "adjr_sq2 = 1-(1-r_sq2)*(n-1)/(n-p-1)\n",
        "adjr_sq2"
      ],
      "metadata": {
        "id": "IgPsIfiiD4Rj",
        "colab": {
          "base_uri": "https://localhost:8080/"
        },
        "outputId": "4e19ff0d-458a-4f9c-9511-2ed996b5f1a3"
      },
      "execution_count": null,
      "outputs": [
        {
          "output_type": "execute_result",
          "data": {
            "text/plain": [
              "0.7458115742166729"
            ]
          },
          "metadata": {},
          "execution_count": 54
        }
      ]
    },
    {
      "cell_type": "code",
      "source": [
        "mse2=mse(y1p_test,y1p_pred)\n",
        "rmse2=sqrt(mse2)"
      ],
      "metadata": {
        "id": "x8x99jmSDmZj"
      },
      "execution_count": null,
      "outputs": []
    },
    {
      "cell_type": "code",
      "source": [
        "print('MSE:'+str(mse2)+\"\\nRMSE:\"+str(rmse2))"
      ],
      "metadata": {
        "id": "UB38eSOsERHS",
        "colab": {
          "base_uri": "https://localhost:8080/"
        },
        "outputId": "ef0f2fa1-bc92-4d9f-c94c-2ab08c5fd942"
      },
      "execution_count": null,
      "outputs": [
        {
          "output_type": "stream",
          "name": "stdout",
          "text": [
            "MSE:0.05479270339969907\n",
            "RMSE:0.23407841292972548\n"
          ]
        }
      ]
    },
    {
      "cell_type": "code",
      "source": [
        "mae2=mae(y1p_test,y1p_pred)\n",
        "print(mae2)"
      ],
      "metadata": {
        "id": "XJ6iE8ovEea8",
        "colab": {
          "base_uri": "https://localhost:8080/"
        },
        "outputId": "a64d44ad-03df-4f7c-eb73-bfce22282474"
      },
      "execution_count": null,
      "outputs": [
        {
          "output_type": "stream",
          "name": "stdout",
          "text": [
            "0.18503871934518085\n"
          ]
        }
      ]
    },
    {
      "cell_type": "code",
      "source": [
        "fig, ax = plt.subplots()\n",
        "ax.scatter(y1p_test, y1p_pred, edgecolors=(0, 0, 0))\n",
        "ax.plot([y1p_test.min(), y1p_test.max()], [y1p_test.min(), y1p_test.max()], \"k--\", lw=4)\n",
        "ax.set_xlabel(\"Actual\")\n",
        "ax.set_ylabel(\"Predicted\")\n",
        "plt.show()"
      ],
      "metadata": {
        "id": "-ywWupw2wbsF",
        "colab": {
          "base_uri": "https://localhost:8080/"
        },
        "outputId": "1a2621a2-c7f1-425f-fcec-c5688064a7d3"
      },
      "execution_count": null,
      "outputs": [
        {
          "output_type": "display_data",
          "data": {
            "text/plain": [
              "<Figure size 432x288 with 1 Axes>"
            ],
            "image/png": "[encoded data removed]"
          },
          "metadata": {
            "needs_background": "light"
          }
        }
      ]
    },
    {
      "cell_type": "markdown",
      "source": [
        "#**RIDGE REGRESSION**"
      ],
      "metadata": {
        "id": "AsWHVjAlkZX6"
      }
    },
    {
      "cell_type": "code",
      "source": [
        "from sklearn.linear_model import Ridge\n",
        "rr=Ridge(alpha=1)\n",
        "rr.fit(X1_train, y1_train)"
      ],
      "metadata": {
        "id": "duZoH895ki3h",
        "colab": {
          "base_uri": "https://localhost:8080/"
        },
        "outputId": "a004bb5c-55f2-4aa0-ca31-9ba4e8730f2f"
      },
      "execution_count": null,
      "outputs": [
        {
          "output_type": "execute_result",
          "data": {
            "text/plain": [
              "Ridge(alpha=1)"
            ]
          },
          "metadata": {},
          "execution_count": 59
        }
      ]
    },
    {
      "cell_type": "code",
      "source": [
        "y3_pred=rr.predict(X1_test)"
      ],
      "metadata": {
        "id": "2no06iDvEu3S"
      },
      "execution_count": null,
      "outputs": []
    },
    {
      "cell_type": "code",
      "source": [
        "r_sq3=rr.score(X1_test,y1_test)\n",
        "r_sq3"
      ],
      "metadata": {
        "id": "dvjXLHO-k2EQ",
        "colab": {
          "base_uri": "https://localhost:8080/"
        },
        "outputId": "f107e293-ba3d-452f-8a97-76d233d39361"
      },
      "execution_count": null,
      "outputs": [
        {
          "output_type": "execute_result",
          "data": {
            "text/plain": [
              "0.49753814568319277"
            ]
          },
          "metadata": {},
          "execution_count": 61
        }
      ]
    },
    {
      "cell_type": "code",
      "source": [
        "adjr_sq3 = 1-(1-r_sq3)*(n-1)/(n-p-1)\n",
        "adjr_sq3"
      ],
      "metadata": {
        "id": "my7NIQMcEq6y",
        "colab": {
          "base_uri": "https://localhost:8080/"
        },
        "outputId": "36c7edb9-8f6c-4a32-f5fb-dce8feb68787"
      },
      "execution_count": null,
      "outputs": [
        {
          "output_type": "execute_result",
          "data": {
            "text/plain": [
              "0.4931963031602926"
            ]
          },
          "metadata": {},
          "execution_count": 62
        }
      ]
    },
    {
      "cell_type": "code",
      "source": [
        "mse3=mse(y1_test,y3_pred)\n",
        "rmse3=sqrt(mse3)"
      ],
      "metadata": {
        "id": "Q9qAZ_-rE7dI"
      },
      "execution_count": null,
      "outputs": []
    },
    {
      "cell_type": "code",
      "source": [
        "print('MSE:'+str(mse3)+\"\\nRMSE:\"+str(rmse3))"
      ],
      "metadata": {
        "id": "vTw03M-CFIR1",
        "colab": {
          "base_uri": "https://localhost:8080/"
        },
        "outputId": "033dcad4-602a-4515-8933-b6bc9d23ec47"
      },
      "execution_count": null,
      "outputs": [
        {
          "output_type": "stream",
          "name": "stdout",
          "text": [
            "MSE:0.109246298517462\n",
            "RMSE:0.3305242782572288\n"
          ]
        }
      ]
    },
    {
      "cell_type": "code",
      "source": [
        "mae3=mae(y1_test,y3_pred)\n",
        "print(mae3)"
      ],
      "metadata": {
        "id": "MsKcrJE6FL1s",
        "colab": {
          "base_uri": "https://localhost:8080/"
        },
        "outputId": "07687ddc-aa17-4007-98f5-291d73b9879d"
      },
      "execution_count": null,
      "outputs": [
        {
          "output_type": "stream",
          "name": "stdout",
          "text": [
            "0.275672402328701\n"
          ]
        }
      ]
    },
    {
      "cell_type": "markdown",
      "source": [
        "#**LASSO REGRESSION**"
      ],
      "metadata": {
        "id": "gt3QuWL6nhbK"
      }
    },
    {
      "cell_type": "code",
      "source": [
        "from sklearn import linear_model\n",
        "clf = linear_model.Lasso(alpha=0.000000000008)\n",
        "clf.fit(X1_train,y1_train)"
      ],
      "metadata": {
        "id": "PIa2SZZtngwD",
        "colab": {
          "base_uri": "https://localhost:8080/"
        },
        "outputId": "b2d91b17-0d4a-4391-9c03-9f00a47c4d21"
      },
      "execution_count": null,
      "outputs": [
        {
          "output_type": "stream",
          "name": "stderr",
          "text": [
            "/usr/local/lib/python3.7/dist-packages/sklearn/linear_model/_coordinate_descent.py:648: ConvergenceWarning: Objective did not converge. You might want to increase the number of iterations, check the scale of the features or consider increasing regularisation. Duality gap: 1.738e+02, tolerance: 9.215e-02\n",
            "  coef_, l1_reg, l2_reg, X, y, max_iter, tol, rng, random, positive\n"
          ]
        },
        {
          "output_type": "execute_result",
          "data": {
            "text/plain": [
              "Lasso(alpha=8e-12)"
            ]
          },
          "metadata": {},
          "execution_count": 66
        }
      ]
    },
    {
      "cell_type": "code",
      "source": [
        "y4_pred=clf.predict(X1_test)"
      ],
      "metadata": {
        "id": "a4hCALQaFb0X"
      },
      "execution_count": null,
      "outputs": []
    },
    {
      "cell_type": "code",
      "source": [
        "r_sq4=clf.score(X1_test,y1_test)\n",
        "r_sq4"
      ],
      "metadata": {
        "id": "xiBiRXK3n5Mz",
        "colab": {
          "base_uri": "https://localhost:8080/"
        },
        "outputId": "2525b590-97d1-4d4c-f825-51d520a463bd"
      },
      "execution_count": null,
      "outputs": [
        {
          "output_type": "execute_result",
          "data": {
            "text/plain": [
              "0.6241393197623548"
            ]
          },
          "metadata": {},
          "execution_count": 68
        }
      ]
    },
    {
      "cell_type": "code",
      "source": [
        "adjr_sq4 = 1-(1-r_sq4)*(n-1)/(n-p-1)\n",
        "adjr_sq4"
      ],
      "metadata": {
        "id": "flzTPl5OFZpS",
        "colab": {
          "base_uri": "https://localhost:8080/"
        },
        "outputId": "9187fe77-85d4-422d-fd18-7ea6589c1ba7"
      },
      "execution_count": null,
      "outputs": [
        {
          "output_type": "execute_result",
          "data": {
            "text/plain": [
              "0.6208914555312264"
            ]
          },
          "metadata": {},
          "execution_count": 69
        }
      ]
    },
    {
      "cell_type": "code",
      "source": [
        "mse4=mse(y1_test,y4_pred)\n",
        "rmse4=sqrt(mse4)"
      ],
      "metadata": {
        "id": "WkA16rFdFl0Y"
      },
      "execution_count": null,
      "outputs": []
    },
    {
      "cell_type": "code",
      "source": [
        "print('MSE:'+str(mse4)+\"\\nRMSE:\"+str(rmse4))"
      ],
      "metadata": {
        "id": "2rKpiEHIFrHv",
        "colab": {
          "base_uri": "https://localhost:8080/"
        },
        "outputId": "e3db2637-0d19-44a7-a56d-c8acfb2db1bb"
      },
      "execution_count": null,
      "outputs": [
        {
          "output_type": "stream",
          "name": "stdout",
          "text": [
            "MSE:0.0817204086667413\n",
            "RMSE:0.28586781677331446\n"
          ]
        }
      ]
    },
    {
      "cell_type": "code",
      "source": [
        "mae4=mae(y1_test,y4_pred)\n",
        "print(mae4)"
      ],
      "metadata": {
        "id": "ONvbpTRlF7eU",
        "colab": {
          "base_uri": "https://localhost:8080/"
        },
        "outputId": "93803a87-afb4-4f83-ef4f-52ff3a492120"
      },
      "execution_count": null,
      "outputs": [
        {
          "output_type": "stream",
          "name": "stdout",
          "text": [
            "0.23747472655522\n"
          ]
        }
      ]
    },
    {
      "cell_type": "code",
      "source": [
        "from tabulate import tabulate\n",
        "tdata=[\n",
        "       ['Multiple Linear Regresssion','R Square',r_sq1],\n",
        "       ['','Adjusted R Square',adjr_sq1],\n",
        "       ['','Mean Squared Error',mse1],\n",
        "       ['','Root Mean Squared Error',rmse1],\n",
        "       ['','Mean Absolute Error',mae1],[],\n",
        "\n",
        "       ['Polynomial Regresssion','R Square',r_sq2],\n",
        "       ['','Adjusted R Square',adjr_sq2],\n",
        "       ['','Mean Squared Error',mse2],\n",
        "       ['','Root Mean Squared Error',rmse2],\n",
        "       ['','Mean Absolute Error',mae2],[],\n",
        "\n",
        "       ['Ridge Regresssion','R Square',r_sq3],\n",
        "       ['','Adjusted R Square',adjr_sq3],\n",
        "       ['','Mean Squared Error',mse3],\n",
        "       ['','Root Mean Squared Error',rmse3],\n",
        "       ['','Mean Absolute Error',mae3],[],\n",
        "\n",
        "       ['Lasso Regresssion','R Square',r_sq4],\n",
        "       ['','Adjusted R Square',adjr_sq4],\n",
        "       ['','Mean Squared Error',mse4],\n",
        "       ['','Root Mean Squared Error',rmse4],\n",
        "       ['','Mean Absolute Error',mae4]\n",
        "]\n",
        "head=['Model','Evaluation Metric','Value']\n",
        "print(tabulate(tdata,headers=head,tablefmt=\"grid\"))"
      ],
      "metadata": {
        "id": "oav5g_cVHZv5",
        "colab": {
          "base_uri": "https://localhost:8080/"
        },
        "outputId": "ff73ba94-eda3-4baf-a0ee-43d592208a8d"
      },
      "execution_count": null,
      "outputs": [
        {
          "output_type": "stream",
          "name": "stdout",
          "text": [
            "+-----------------------------+-------------------------+-----------+\n",
            "| Model                       | Evaluation Metric       |     Value |\n",
            "+=============================+=========================+===========+\n",
            "| Multiple Linear Regresssion | R Square                | 0.624254  |\n",
            "+-----------------------------+-------------------------+-----------+\n",
            "|                             | Adjusted R Square       | 0.621007  |\n",
            "+-----------------------------+-------------------------+-----------+\n",
            "|                             | Mean Squared Error      | 0.0816954 |\n",
            "+-----------------------------+-------------------------+-----------+\n",
            "|                             | Root Mean Squared Error | 0.285824  |\n",
            "+-----------------------------+-------------------------+-----------+\n",
            "|                             | Mean Absolute Error     | 0.237353  |\n",
            "+-----------------------------+-------------------------+-----------+\n",
            "|                             |                         |           |\n",
            "+-----------------------------+-------------------------+-----------+\n",
            "| Polynomial Regresssion      | R Square                | 0.747989  |\n",
            "+-----------------------------+-------------------------+-----------+\n",
            "|                             | Adjusted R Square       | 0.745812  |\n",
            "+-----------------------------+-------------------------+-----------+\n",
            "|                             | Mean Squared Error      | 0.0547927 |\n",
            "+-----------------------------+-------------------------+-----------+\n",
            "|                             | Root Mean Squared Error | 0.234078  |\n",
            "+-----------------------------+-------------------------+-----------+\n",
            "|                             | Mean Absolute Error     | 0.185039  |\n",
            "+-----------------------------+-------------------------+-----------+\n",
            "|                             |                         |           |\n",
            "+-----------------------------+-------------------------+-----------+\n",
            "| Ridge Regresssion           | R Square                | 0.497538  |\n",
            "+-----------------------------+-------------------------+-----------+\n",
            "|                             | Adjusted R Square       | 0.493196  |\n",
            "+-----------------------------+-------------------------+-----------+\n",
            "|                             | Mean Squared Error      | 0.109246  |\n",
            "+-----------------------------+-------------------------+-----------+\n",
            "|                             | Root Mean Squared Error | 0.330524  |\n",
            "+-----------------------------+-------------------------+-----------+\n",
            "|                             | Mean Absolute Error     | 0.275672  |\n",
            "+-----------------------------+-------------------------+-----------+\n",
            "|                             |                         |           |\n",
            "+-----------------------------+-------------------------+-----------+\n",
            "| Lasso Regresssion           | R Square                | 0.624139  |\n",
            "+-----------------------------+-------------------------+-----------+\n",
            "|                             | Adjusted R Square       | 0.620891  |\n",
            "+-----------------------------+-------------------------+-----------+\n",
            "|                             | Mean Squared Error      | 0.0817204 |\n",
            "+-----------------------------+-------------------------+-----------+\n",
            "|                             | Root Mean Squared Error | 0.285868  |\n",
            "+-----------------------------+-------------------------+-----------+\n",
            "|                             | Mean Absolute Error     | 0.237475  |\n",
            "+-----------------------------+-------------------------+-----------+\n"
          ]
        }
      ]
    }
  ]
}